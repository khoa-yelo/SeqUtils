{
 "cells": [
  {
   "cell_type": "code",
   "execution_count": 101,
   "metadata": {},
   "outputs": [],
   "source": [
    "import os\n",
    "from os.path import dirname, basename, isfile, join\n",
    "from collections import Counter\n",
    "from SeqUtils import seq_utils"
   ]
  },
  {
   "cell_type": "code",
   "execution_count": 102,
   "metadata": {},
   "outputs": [],
   "source": [
    "SCRATCH = os.environ['SCRATCH']"
   ]
  },
  {
   "cell_type": "code",
   "execution_count": 103,
   "metadata": {},
   "outputs": [],
   "source": [
    "re_data = seq_utils.read_fasta(join(SCRATCH, 'data', 'REBASE', 'All_Type_II_restriction_enzyme_genes_Protein.txt'), \"pandas\")"
   ]
  },
  {
   "cell_type": "code",
   "execution_count": 104,
   "metadata": {},
   "outputs": [],
   "source": [
    "def get_cut_site(description: str):\n",
    "    vals = description.split()\n",
    "    for v in vals[1:]:\n",
    "        if set(v).difference(set(\"ATCG\")) == set():\n",
    "            return v"
   ]
  },
  {
   "cell_type": "code",
   "execution_count": 105,
   "metadata": {},
   "outputs": [],
   "source": [
    "re_data[\"cut_site\"] = re_data.Description.apply(get_cut_site)\n",
    "re_data[\"cut_site_length\"] = re_data[\"cut_site\"].str.len()\n",
    "re_data[\"protein_length\"] = re_data.Sequence.apply(lambda x: len(x))"
   ]
  },
  {
   "cell_type": "code",
   "execution_count": 115,
   "metadata": {},
   "outputs": [],
   "source": [
    "re_data = re_data.dropna()\n",
    "re_data = re_data.drop_duplicates([\"Sequence\",\"cut_site\"])\n",
    "cut_site_abundance = re_data[\"cut_site\"].value_counts().to_dict()\n",
    "re_data[\"cut_site_abundance\"] = re_data.cut_site.map(cut_site_abundance)\n"
   ]
  },
  {
   "cell_type": "code",
   "execution_count": 127,
   "metadata": {},
   "outputs": [
    {
     "data": {
      "text/plain": [
       "Sequence\n",
       "(A, D, D, N, M, G, F, D, N, L, D, F, A, K, I, D, E, D, R, I, V, D, Y, T, N, F, G, E, A, T, G, L, L, D, F, L, Q, K, K, A, N, R, S, L, V, D, Y, V, Y, G, V, E, A, G, L, D, S, N, A, R, K, N, R, S, G, T, T, M, E, G, I, L, E, R, T, V, A, R, V, C, K, E, Y, G, L, E, F, K, A, Q, A, T, A, P, F, I, K, D, N, W, ...)    1\n",
       "(A, I, W, S, M, G, P, L, E, S, T, C, R, H, A, S, L, K, F, D, V, D, R, R, Q, A, P, T, T, W, V, N, I, I, I, E, N, A, K, G, R, S, G, G, V, V, E, Q, H, L, V, G, A, K, L, E, R, R, F, R, D, L, S, I, P, N, H, P, A, H, A, G, D, R, Q, T, E, R, A, G, D, F, E, I, S, R, L, V, Y, H, V, T, S, A, P, S, R, N, V, L, ...)    1\n",
       "(A, L, S, K, W, V, S, P, K, R, T, R, S, Y, P, Y, A, R, V, Y, D, T, F, D, S, G, V, S, K, V, A, T, I, I, P, L, I, K, D, E, G, I, N, G, D, M, D, Y, L, Q, W, D, T, L, S, L, M, S, L, L, N, V, Y, V, I, I, G, F, Y, D, E, A, Q, P, H, L, S, R, I, D, K, I, T, N, Q, H, F, N, N, E, Y, I, L, G, Q, L, T, Q, L, V, ...)    1\n",
       "(A, L, S, K, W, V, S, P, K, R, T, R, S, Y, P, Y, A, R, V, Y, D, T, F, D, S, G, V, S, K, V, V, T, I, I, P, L, I, K, D, E, G, I, N, G, D, M, D, Y, L, Q, W, D, T, L, S, L, M, S, L, L, N, V, Y, V, I, I, G, F, Y, D, E, A, Q, P, H, L, S, R, V, G, K, I, A, N, Q, H, F, N, N, E, Y, I, L, G, Q, L, T, Q, L, V, ...)    1\n",
       "(A, N, F, Y, T, I, S, G, S, K, L, N, E, V, A, R, S, Y, Q, D, L, A, L, K, F, E, A, F, P, N, Y, E, F, I, W, I, T, D, G, T, G, W, L, D, A, K, S, K, L, Q, E, A, Y, K, S, V, E, I, Y, N, L, S, Y, V, N, D, F, I, S, K, V, Q, K)                                                                                          1\n",
       "                                                                                                                                                                                                                                                                                                                    ..\n",
       "(Y, K, N, V, P, I, E, N, Q, G, S, I, T, K, T, G, R, A, L, L, N, A, S, N, E, A, E, L, E, D, V, F, L, R, I, I, Y, N, I, E, I, R, H, D, A, F, K, E, V, P, F, R, P, V, T, L, I, L, K, V, M, K, L, L, R, D, S, G, N, I, E, S, I, N, Q, K, E, F, A, I, S, I, Q, D, Y, R, P, K, L, D, A, K, D, Y, F, D, E, I, V, K, ...)    1\n",
       "(Y, L, H, P, T, K, K, K, I, D, S, T, T, G, I, E, W, D, I, R, Y, V, Y, P, N, K, N, T, F, K, K, I, N, K, F, F, D, K, S, Y, Q, L, D, S, E, L, T, I, F, K, I, L, D, E, I, Y, D, N, K, K, F, Y, L, I, N, K, I, F, P, G, V, D, C, K, E, S, L, E, N, I, K, E, F, I, N, K, E, F, V, N, K, F, Q, R, G, L, L, S, P, G, ...)    1\n",
       "(Y, L, T, A, D, E, V, E, F, I, N, E, D, E, V, I, I, R, E, S, K, N, T, T, R, G, V, L, P, S, M, N, D, I, K, D, G, L, F, K, L, L, L, Y, S, Q, L, S, E, L, H, Y, E, D, R, R, L, R, F, T, A, Q, M, R, L, T, G, N, F, S, G, E, L, S, L, P, A, K, E, S, C, L, Q, G, F, L, S, Q, F, R, S, E, R, Q, R, K, S, I, E, C, ...)    1\n",
       "(Y, R, E, S, L, G, F, K, S, Q, Q, N, F, K, A, F, L, S, A, K, D, I, K, P, Q, V, D, F, S, Y, I, D, A, L, N, A, R, L, C, E, I, F, N, R, L, N, G, I, Y, Y, K, P, R, N, I, E, V, F, L, Q, D, S, L, F, R, V, Y, E, I, M, R, K, Q, G, I, L, E, K, L, T, N, Q, G, R, R, K, E, E, V, Y, F, S, W, M, R, G, Y, L, I, C, ...)    1\n",
       "(Y, S, F, R, M, N, V, P, V, G, G, D, D, G, N, N, S, I, N, I, P, V, D, A, V, I, M, R, R, T, A, Q, E, G, D, F, P, L, L, V, E, A, K, S, A, G, D, F, T, N, T, N, K, R, R, K, E, E, A, Q, K, V, N, Q, L, R, H, T, Y, G, T, D, V, E, F, M, L, F, L, C, G, Y, F, D, S, G, Y, L, G, Y, E, A, A, E, G, I, D, W, V, W, ...)    1\n",
       "Name: cut_site, Length: 8851, dtype: int64"
      ]
     },
     "execution_count": 127,
     "metadata": {},
     "output_type": "execute_result"
    }
   ],
   "source": [
    "re_data.groupby(\"Sequence\").agg(list)[\"cut_site\"].apply(lambda x: len(x))"
   ]
  }
 ],
 "metadata": {
  "kernelspec": {
   "display_name": "SeqUtils",
   "language": "python",
   "name": "python3"
  },
  "language_info": {
   "codemirror_mode": {
    "name": "ipython",
    "version": 3
   },
   "file_extension": ".py",
   "mimetype": "text/x-python",
   "name": "python",
   "nbconvert_exporter": "python",
   "pygments_lexer": "ipython3",
   "version": "3.12.4"
  },
  "orig_nbformat": 4
 },
 "nbformat": 4,
 "nbformat_minor": 2
}
